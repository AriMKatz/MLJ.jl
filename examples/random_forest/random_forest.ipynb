{
 "cells": [
  {
   "cell_type": "markdown",
   "metadata": {},
   "source": [
    "#  Self-tuning random forests\n",
    "\n",
    "A demonstration of ensembling and tuning in MLJ"
   ]
  },
  {
   "cell_type": "code",
   "execution_count": 1,
   "metadata": {},
   "outputs": [
    {
     "name": "stdout",
     "output_type": "stream",
     "text": [
      "\u001b[32m\u001b[1m  Updating\u001b[22m\u001b[39m registry at `~/.julia/registries/General`\n",
      "\u001b[32m\u001b[1m  Updating\u001b[22m\u001b[39m git-repo `https://github.com/JuliaRegistries/General.git`\n",
      "\u001b[?25l\u001b[2K\u001b[?25h"
     ]
    }
   ],
   "source": [
    "# uncomment 2 lines for parallelized ensemble building:\n",
    "# using Distributed\n",
    "# addprocs()\n",
    "using Pkg\n",
    "Pkg.activate(@__DIR__)\n",
    "Pkg.instantiate()"
   ]
  },
  {
   "cell_type": "code",
   "execution_count": 2,
   "metadata": {},
   "outputs": [
    {
     "name": "stderr",
     "output_type": "stream",
     "text": [
      "┌ Info: Recompiling stale cache file /home/ayush99/.julia/compiled/v1.1/PyPlot/oatAj.ji for PyPlot [d330b81b-6aea-500a-939a-2ce795aea3ee]\n",
      "└ @ Base loading.jl:1184\n"
     ]
    },
    {
     "data": {
      "text/plain": [
       "Plots.PyPlotBackend()"
      ]
     },
     "execution_count": 2,
     "metadata": {},
     "output_type": "execute_result"
    }
   ],
   "source": [
    "using Suppressor\n",
    "using MLJ\n",
    "using Plots\n",
    "pyplot()"
   ]
  },
  {
   "cell_type": "markdown",
   "metadata": {},
   "source": [
    "Load a task (data plus learning objective):"
   ]
  },
  {
   "cell_type": "code",
   "execution_count": 3,
   "metadata": {},
   "outputs": [
    {
     "name": "stderr",
     "output_type": "stream",
     "text": [
      "┌ Warning: `allowmissing` is a deprecated keyword argument\n",
      "└ @ CSV /home/ayush99/.julia/packages/CSV/IwqOm/src/CSV.jl:208\n"
     ]
    },
    {
     "data": {
      "text/plain": [
       "\u001b[34mSupervisedTask{} @ 8…80\u001b[39m\n"
      ]
     },
     "execution_count": 3,
     "metadata": {},
     "output_type": "execute_result"
    }
   ],
   "source": [
    "task = load_boston()"
   ]
  },
  {
   "cell_type": "markdown",
   "metadata": {},
   "source": [
    "To see how to construct your own task, see [Working with Tasks](https://alan-turing-institute.github.io/MLJ.jl/dev/working_with_tasks/)"
   ]
  },
  {
   "cell_type": "markdown",
   "metadata": {},
   "source": [
    "Which models are available for the present task?"
   ]
  },
  {
   "cell_type": "code",
   "execution_count": 4,
   "metadata": {},
   "outputs": [
    {
     "data": {
      "text/plain": [
       "Dict{String,Any} with 5 entries:\n",
       "  \"MultivariateStats\" => Any[\"RidgeRegressor\"]\n",
       "  \"MLJ\"               => Any[\"KNNRegressor\", \"RidgeRegressor\"]\n",
       "  \"DecisionTree\"      => Any[\"DecisionTreeRegressor\"]\n",
       "  \"ScikitLearn\"       => Any[\"ElasticNet\", \"ElasticNetCV\", \"SVMRegressor\", \"SVM…\n",
       "  \"XGBoost\"           => Any[\"XGBoostRegressor\"]"
      ]
     },
     "execution_count": 4,
     "metadata": {},
     "output_type": "execute_result"
    }
   ],
   "source": [
    "models(task)"
   ]
  },
  {
   "cell_type": "markdown",
   "metadata": {},
   "source": [
    "## Evaluating a single decision tree"
   ]
  },
  {
   "cell_type": "code",
   "execution_count": 5,
   "metadata": {},
   "outputs": [
    {
     "name": "stdout",
     "output_type": "stream",
     "text": [
      "import MLJModels "
     ]
    },
    {
     "name": "stderr",
     "output_type": "stream",
     "text": [
      "┌ Info: Recompiling stale cache file /home/ayush99/.julia/compiled/v1.1/MLJModels/0nkqq.ji for MLJModels [d491faf4-2d78-11e9-2867-c94bc002c0b7]\n",
      "└ @ Base loading.jl:1184\n"
     ]
    },
    {
     "name": "stdout",
     "output_type": "stream",
     "text": [
      "✔\n",
      "import DecisionTree "
     ]
    },
    {
     "name": "stderr",
     "output_type": "stream",
     "text": [
      "┌ Info: Recompiling stale cache file /home/ayush99/.julia/compiled/v1.1/DecisionTree/pEDeB.ji for DecisionTree [7806a523-6efd-50cb-b5f6-3fa6f1930dbb]\n",
      "└ @ Base loading.jl:1184\n"
     ]
    },
    {
     "name": "stdout",
     "output_type": "stream",
     "text": [
      "✔\n",
      "import MLJModels.DecisionTree_.DecisionTreeRegressor ✔\n"
     ]
    }
   ],
   "source": [
    "@load DecisionTreeRegressor"
   ]
  },
  {
   "cell_type": "code",
   "execution_count": 6,
   "metadata": {},
   "outputs": [
    {
     "name": "stderr",
     "output_type": "stream",
     "text": [
      "┌ Info: Evaluating using a holdout set. \n",
      "│ fraction_train=0.8 \n",
      "│ shuffle=false \n",
      "│ measure=Function[rms, rmslp1] \n",
      "│ operation=StatsBase.predict \n",
      "│ Resampling from all rows. \n",
      "└ @ MLJ /home/ayush99/.julia/packages/MLJ/w0rRg/src/resampling.jl:91\n"
     ]
    },
    {
     "data": {
      "text/plain": [
       "(MLJ.rms = 7.054322052311654,\n",
       " MLJ.rmslp1 = 0.32730942581047084,)"
      ]
     },
     "execution_count": 6,
     "metadata": {},
     "output_type": "execute_result"
    }
   ],
   "source": [
    "tree = DecisionTreeRegressor()\n",
    "mach = machine(tree, task)\n",
    "evaluate!(mach, resampling=Holdout(fraction_train=0.8), measure=[rms,rmslp1])"
   ]
  },
  {
   "cell_type": "markdown",
   "metadata": {},
   "source": [
    "## Creating a random forest by ensembling"
   ]
  },
  {
   "cell_type": "code",
   "execution_count": 7,
   "metadata": {},
   "outputs": [
    {
     "data": {
      "text/plain": [
       "MLJ.DeterministicEnsembleModel(atom = \u001b[34mDecisionTreeRegressor{} @ 9…38\u001b[39m,\n",
       "                               weights = Float64[],\n",
       "                               bagging_fraction = 0.8,\n",
       "                               rng = MersenneTwister(UInt32[0x9161b500, 0x2f74f0e9, 0xc58cf11e, 0x0bf750d7]),\n",
       "                               n = 100,\n",
       "                               parallel = true,\n",
       "                               out_of_bag_measure = Any[],)\u001b[34m @ 9…70\u001b[39m"
      ]
     },
     "execution_count": 7,
     "metadata": {},
     "output_type": "execute_result"
    }
   ],
   "source": [
    "forest = EnsembleModel(atom=tree)"
   ]
  },
  {
   "cell_type": "code",
   "execution_count": 8,
   "metadata": {},
   "outputs": [
    {
     "name": "stdout",
     "output_type": "stream",
     "text": [
      "MLJ.DeterministicEnsembleModel(atom = DecisionTreeRegressor(pruning_purity_threshold = 0.0,\n",
      "                                                            max_depth = -1,\n",
      "                                                            min_samples_leaf = 5,\n",
      "                                                            min_samples_split = 2,\n",
      "                                                            min_purity_increase = 0.0,\n",
      "                                                            n_subfeatures = 0,\n",
      "                                                            post_prune = false,),\n",
      "                               weights = Float64[],\n",
      "                               bagging_fraction = 0.8,\n",
      "                               rng = MersenneTwister(UInt32[0x9161b500, 0x2f74f0e9, 0xc58cf11e, 0x0bf750d7]),\n",
      "                               n = 100,\n",
      "                               parallel = true,\n",
      "                               out_of_bag_measure = Any[],)\u001b[34m @ 9…70\u001b[39m"
     ]
    }
   ],
   "source": [
    "@more"
   ]
  },
  {
   "cell_type": "markdown",
   "metadata": {},
   "source": [
    "We start by reducing number of features sampled at each tree node. We will use the square root of the\n",
    "number of features, a common default:"
   ]
  },
  {
   "cell_type": "code",
   "execution_count": 9,
   "metadata": {},
   "outputs": [],
   "source": [
    "tree.n_subfeatures = 3;"
   ]
  },
  {
   "cell_type": "markdown",
   "metadata": {},
   "source": [
    "To get an idea of how many trees we need, we wrap our forest model in the task, pick a range for the ensemeble size, `n`, and generate learning curves (plots of model performance against `n`):"
   ]
  },
  {
   "cell_type": "code",
   "execution_count": 10,
   "metadata": {},
   "outputs": [
    {
     "data": {
      "image/png": "[encoded data removed]"
     },
     "execution_count": 10,
     "metadata": {},
     "output_type": "execute_result"
    }
   ],
   "source": [
    "mach = machine(forest, task)\n",
    "r = range(forest, :n, lower=10, upper=1000)\n",
    "curves = learning_curve!(mach,\n",
    "    resampling=Holdout(fraction_train=0.8),\n",
    "    nested_range=(n=r,), \n",
    "    measure=rms, n=4,\n",
    "    verbosity=0)\n",
    "@suppress plot(curves.parameter_values, curves.measurements,\n",
    "     xlab=\"number of trees\", ylab=\"rms \")"
   ]
  },
  {
   "cell_type": "code",
   "execution_count": 11,
   "metadata": {},
   "outputs": [],
   "source": [
    "savefig(\"learningcurves.png\")"
   ]
  },
  {
   "cell_type": "code",
   "execution_count": 12,
   "metadata": {},
   "outputs": [],
   "source": [
    "forest.n = 300;"
   ]
  },
  {
   "cell_type": "markdown",
   "metadata": {},
   "source": [
    "# Tuning"
   ]
  },
  {
   "cell_type": "markdown",
   "metadata": {},
   "source": [
    "As `forest` is a composite model, it has nested hyperparameters:"
   ]
  },
  {
   "cell_type": "code",
   "execution_count": 13,
   "metadata": {},
   "outputs": [
    {
     "data": {
      "text/plain": [
       "(atom = (pruning_purity_threshold = 0.0,\n",
       "         max_depth = -1,\n",
       "         min_samples_leaf = 5,\n",
       "         min_samples_split = 2,\n",
       "         min_purity_increase = 0.0,\n",
       "         n_subfeatures = 3,\n",
       "         post_prune = false,),\n",
       " weights = Float64[],\n",
       " bagging_fraction = 0.8,\n",
       " rng = MersenneTwister(UInt32[0x9161b500, 0x2f74f0e9, 0xc58cf11e, 0x0bf750d7]),\n",
       " n = 300,\n",
       " parallel = true,\n",
       " out_of_bag_measure = Any[],)"
      ]
     },
     "execution_count": 13,
     "metadata": {},
     "output_type": "execute_result"
    }
   ],
   "source": [
    "params(forest) # all hyperparameters, as a named tuple"
   ]
  },
  {
   "cell_type": "markdown",
   "metadata": {},
   "source": [
    "Let's define ranges for two hyperparameters we want to tune:"
   ]
  },
  {
   "cell_type": "code",
   "execution_count": 14,
   "metadata": {},
   "outputs": [],
   "source": [
    "r1 = range(tree, :n_subfeatures, lower=1, upper=12)\n",
    "r2 = range(forest, :bagging_fraction, lower=0.4, upper=1.0);"
   ]
  },
  {
   "cell_type": "markdown",
   "metadata": {},
   "source": [
    "We collate the ranges using by matching the pattern of `params(forest)` above, omitting parameters that don't change:"
   ]
  },
  {
   "cell_type": "code",
   "execution_count": 15,
   "metadata": {},
   "outputs": [
    {
     "data": {
      "text/plain": [
       "(atom = (n_subfeatures = \u001b[34mNumericRange{n_subfeatures} @ 6…46\u001b[39m,),\n",
       " bagging_fraction = \u001b[34mNumericRange{bagging_fraction} @ 6…51\u001b[39m,)"
      ]
     },
     "execution_count": 15,
     "metadata": {},
     "output_type": "execute_result"
    }
   ],
   "source": [
    "nested_ranges = (atom=(n_subfeatures=r1,), \n",
    "                 bagging_fraction=r2)"
   ]
  },
  {
   "cell_type": "markdown",
   "metadata": {},
   "source": [
    "We now wrap our forest in tuning strategy to obtain a new \"self-tuning\" model!"
   ]
  },
  {
   "cell_type": "code",
   "execution_count": 16,
   "metadata": {},
   "outputs": [
    {
     "data": {
      "text/plain": [
       "MLJ.DeterministicTunedModel(model = \u001b[34mDeterministicEnsembleModel{DecisionTreeRegressor} @ 9…70\u001b[39m,\n",
       "                            tuning = \u001b[34mGrid{} @ 1…96\u001b[39m,\n",
       "                            resampling = \u001b[34mCV{} @ 6…05\u001b[39m,\n",
       "                            measure = MLJ.rms,\n",
       "                            operation = StatsBase.predict,\n",
       "                            nested_ranges = (atom = (n_subfeatures = \u001b[34mNumericRange{n_subfeatures} @ 6…46\u001b[39m,), bagging_fraction = \u001b[34mNumericRange{bagging_fraction} @ 6…51\u001b[39m),\n",
       "                            minimize = true,\n",
       "                            full_report = true,)\u001b[34m @ 1…41\u001b[39m"
      ]
     },
     "execution_count": 16,
     "metadata": {},
     "output_type": "execute_result"
    }
   ],
   "source": [
    "tuned_forest = TunedModel(model=forest, \n",
    "                          tuning=Grid(resolution=12),\n",
    "                          resampling=CV(nfolds=6),\n",
    "                          nested_ranges=nested_ranges, \n",
    "                          measure=rms)"
   ]
  },
  {
   "cell_type": "code",
   "execution_count": 17,
   "metadata": {},
   "outputs": [
    {
     "data": {
      "text/plain": [
       "(model = (atom = (pruning_purity_threshold = 0.0,\n",
       "                  max_depth = -1,\n",
       "                  min_samples_leaf = 5,\n",
       "                  min_samples_split = 2,\n",
       "                  min_purity_increase = 0.0,\n",
       "                  n_subfeatures = 3,\n",
       "                  post_prune = false,),\n",
       "          weights = Float64[],\n",
       "          bagging_fraction = 0.8,\n",
       "          rng = MersenneTwister(UInt32[0x9161b500, 0x2f74f0e9, 0xc58cf11e, 0x0bf750d7]),\n",
       "          n = 300,\n",
       "          parallel = true,\n",
       "          out_of_bag_measure = Any[],),\n",
       " tuning = (resolution = 12,\n",
       "           parallel = true,),\n",
       " resampling = (nfolds = 6,\n",
       "               parallel = true,\n",
       "               shuffle = false,),\n",
       " measure = MLJ.rms,\n",
       " operation = StatsBase.predict,\n",
       " nested_ranges = (atom = (n_subfeatures = \u001b[34mNumericRange{n_subfeatures} @ 6…46\u001b[39m,),\n",
       "                  bagging_fraction = \u001b[34mNumericRange{bagging_fraction} @ 6…51\u001b[39m,),\n",
       " minimize = true,\n",
       " full_report = true,)"
      ]
     },
     "execution_count": 17,
     "metadata": {},
     "output_type": "execute_result"
    }
   ],
   "source": [
    "params(tuned_forest)"
   ]
  },
  {
   "cell_type": "markdown",
   "metadata": {},
   "source": [
    "## Evaluating the self-tuning random forest "
   ]
  },
  {
   "cell_type": "markdown",
   "metadata": {},
   "source": [
    "We evaluate our self-tuning random forest the same as any other model:"
   ]
  },
  {
   "cell_type": "code",
   "execution_count": 18,
   "metadata": {},
   "outputs": [
    {
     "name": "stderr",
     "output_type": "stream",
     "text": [
      "┌ Info: Evaluating using a holdout set. \n",
      "│ fraction_train=0.8 \n",
      "│ shuffle=false \n",
      "│ measure=Function[rms, rmslp1] \n",
      "│ operation=StatsBase.predict \n",
      "│ Resampling from all rows. \n",
      "└ @ MLJ /home/ayush99/.julia/packages/MLJ/w0rRg/src/resampling.jl:91\n"
     ]
    },
    {
     "data": {
      "text/plain": [
       "(MLJ.rms = 4.040489910758835,\n",
       " MLJ.rmslp1 = 0.25379207322549113,)"
      ]
     },
     "execution_count": 18,
     "metadata": {},
     "output_type": "execute_result"
    }
   ],
   "source": [
    "mach = machine(tuned_forest, task)\n",
    "evaluate!(mach, resampling=Holdout(fraction_train=0.8), measure=[rms, rmslp1])"
   ]
  },
  {
   "cell_type": "markdown",
   "metadata": {},
   "source": [
    "Implicit in this evaluation is nested resampling: `evaluate!` fits `tuned_forest` on the training data and evaluates its performance on the 20% holdout test set. On the other hand, fitting `tuned_forest` means:\n",
    "(i) searching over all parameters specified by `nested_ranges` above for the values optimizing performance, as estimated by cross-validation on the supplied data (80% of all data); and (ii)\n",
    "and retraining a `forest` on all of that supplied data, using the optimal parameters.\n",
    "\n",
    "We can view the optimal `forest` hyperparameters:"
   ]
  },
  {
   "cell_type": "code",
   "execution_count": 19,
   "metadata": {},
   "outputs": [
    {
     "data": {
      "text/plain": [
       "(best_model = \u001b[34mDeterministicEnsembleModel{DecisionTreeRegressor} @ 5…18\u001b[39m,)"
      ]
     },
     "execution_count": 19,
     "metadata": {},
     "output_type": "execute_result"
    }
   ],
   "source": [
    "fitted_params(mach)"
   ]
  },
  {
   "cell_type": "code",
   "execution_count": 20,
   "metadata": {},
   "outputs": [
    {
     "name": "stdout",
     "output_type": "stream",
     "text": [
      "best.bagging_fraction = 0.509090909090909\n",
      "(best.atom).n_subfeatures = 8\n"
     ]
    }
   ],
   "source": [
    "best = fitted_params(mach).best_model\n",
    "@show best.bagging_fraction\n",
    "@show best.atom.n_subfeatures;"
   ]
  },
  {
   "cell_type": "markdown",
   "metadata": {},
   "source": [
    "And plot the performance estimates for the grid search:"
   ]
  },
  {
   "cell_type": "code",
   "execution_count": 21,
   "metadata": {},
   "outputs": [
    {
     "data": {
      "image/png": "[encoded data removed]"
     },
     "execution_count": 21,
     "metadata": {},
     "output_type": "execute_result"
    }
   ],
   "source": [
    "@suppress plot(mach)"
   ]
  },
  {
   "cell_type": "code",
   "execution_count": null,
   "metadata": {},
   "outputs": [],
   "source": []
  }
 ],
 "metadata": {
  "kernelspec": {
   "display_name": "Julia 1.1.0",
   "language": "julia",
   "name": "julia-1.1"
  },
  "language_info": {
   "file_extension": ".jl",
   "mimetype": "application/julia",
   "name": "julia",
   "version": "1.1.0"
  }
 },
 "nbformat": 4,
 "nbformat_minor": 2
}
